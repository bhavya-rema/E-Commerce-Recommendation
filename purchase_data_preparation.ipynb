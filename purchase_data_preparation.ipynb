{
  "cells": [
    {
      "cell_type": "markdown",
      "metadata": {
        "id": "view-in-github",
        "colab_type": "text"
      },
      "source": [
        "<a href=\"https://colab.research.google.com/github/bhavya-rema/E-Commerce-Recommendation/blob/main/purchase_data_preparation.ipynb\" target=\"_parent\"><img src=\"https://colab.research.google.com/assets/colab-badge.svg\" alt=\"Open In Colab\"/></a>"
      ]
    },
    {
      "cell_type": "code",
      "execution_count": null,
      "id": "6e38986e-7d17-46d4-9a2c-c2a4a892a52e",
      "metadata": {
        "id": "6e38986e-7d17-46d4-9a2c-c2a4a892a52e"
      },
      "outputs": [],
      "source": [
        "!jupyter notebook --NotebookApp.max_buffer_size=1000"
      ]
    },
    {
      "cell_type": "markdown",
      "id": "d317c8f5-9850-4b0c-91fd-1b19909aba70",
      "metadata": {
        "id": "d317c8f5-9850-4b0c-91fd-1b19909aba70"
      },
      "source": [
        "Kaggle customer behaviour dataset by OpenCDP"
      ]
    },
    {
      "cell_type": "code",
      "execution_count": null,
      "id": "0c67325b-1cdd-4d7d-ad0a-090626a13749",
      "metadata": {
        "id": "0c67325b-1cdd-4d7d-ad0a-090626a13749"
      },
      "outputs": [],
      "source": [
        "from IPython.display import display\n",
        "import pandas as pd\n",
        "from tqdm import tqdm\n",
        "import numpy as np"
      ]
    },
    {
      "cell_type": "code",
      "execution_count": null,
      "id": "ab2b5ebc-e5f2-4653-8ab0-e308eceb8886",
      "metadata": {
        "id": "ab2b5ebc-e5f2-4653-8ab0-e308eceb8886",
        "outputId": "edd6a0b3-dab5-4f8c-e667-107013c524a7"
      },
      "outputs": [
        {
          "name": "stdout",
          "output_type": "stream",
          "text": [
            "Updated property [core/project].\n"
          ]
        }
      ],
      "source": [
        "!gcloud config set project drchi-sample-project-2"
      ]
    },
    {
      "cell_type": "code",
      "execution_count": null,
      "id": "2a08b582-7122-4af9-ae3a-144fcca9a679",
      "metadata": {
        "id": "2a08b582-7122-4af9-ae3a-144fcca9a679",
        "outputId": "78e4e807-d16f-4965-93e9-98670522422d"
      },
      "outputs": [
        {
          "name": "stdout",
          "output_type": "stream",
          "text": [
            "Copying gs://bhavya_recommendation_bucket/cust-behaviour.csv.zip...\n",
            "/ [1 files][  1.6 GiB/  1.6 GiB]   51.3 MiB/s                                   \n",
            "Operation completed over 1 objects/1.6 GiB.                                      \n"
          ]
        }
      ],
      "source": [
        "!gsutil cp gs://bhavya_recommendation_bucket/cust-behaviour.csv.zip ./"
      ]
    },
    {
      "cell_type": "code",
      "execution_count": null,
      "id": "8e37573b-9ae1-4a69-aa18-9357f054d1cf",
      "metadata": {
        "id": "8e37573b-9ae1-4a69-aa18-9357f054d1cf",
        "outputId": "00baacbf-0e7b-4289-f0ff-c65f84de7959"
      },
      "outputs": [
        {
          "name": "stdout",
          "output_type": "stream",
          "text": [
            "Archive:  cust-behaviour.csv.zip\n",
            "  inflating: 2019-Oct.csv            \n"
          ]
        }
      ],
      "source": [
        "!unzip cust-behaviour.csv.zip"
      ]
    },
    {
      "cell_type": "code",
      "execution_count": null,
      "id": "0a1bdbec-ce6f-419f-84a1-14f8fcbf30c8",
      "metadata": {
        "id": "0a1bdbec-ce6f-419f-84a1-14f8fcbf30c8",
        "outputId": "f7cd93e6-bd07-4dbb-e7c9-6fc41b0f88e3"
      },
      "outputs": [
        {
          "name": "stdout",
          "output_type": "stream",
          "text": [
            "Archive:  2019-Nov.csv.zip\n",
            "  inflating: 2019-Nov.csv            \n"
          ]
        }
      ],
      "source": [
        "!unzip 2019-Nov.csv.zip"
      ]
    },
    {
      "cell_type": "code",
      "execution_count": null,
      "id": "64694be8-05f5-4809-bb4c-d5f69a653731",
      "metadata": {
        "id": "64694be8-05f5-4809-bb4c-d5f69a653731",
        "outputId": "4b977a6a-f6ad-456d-bccd-60d54e7027cf"
      },
      "outputs": [
        {
          "name": "stdout",
          "output_type": "stream",
          "text": [
            "(42448764, 9)\n"
          ]
        },
        {
          "data": {
            "text/html": [
              "<div>\n",
              "<style scoped>\n",
              "    .dataframe tbody tr th:only-of-type {\n",
              "        vertical-align: middle;\n",
              "    }\n",
              "\n",
              "    .dataframe tbody tr th {\n",
              "        vertical-align: top;\n",
              "    }\n",
              "\n",
              "    .dataframe thead th {\n",
              "        text-align: right;\n",
              "    }\n",
              "</style>\n",
              "<table border=\"1\" class=\"dataframe\">\n",
              "  <thead>\n",
              "    <tr style=\"text-align: right;\">\n",
              "      <th></th>\n",
              "      <th>event_time</th>\n",
              "      <th>event_type</th>\n",
              "      <th>product_id</th>\n",
              "      <th>category_id</th>\n",
              "      <th>category_code</th>\n",
              "      <th>brand</th>\n",
              "      <th>price</th>\n",
              "      <th>user_id</th>\n",
              "      <th>user_session</th>\n",
              "    </tr>\n",
              "  </thead>\n",
              "  <tbody>\n",
              "    <tr>\n",
              "      <th>0</th>\n",
              "      <td>2019-10-01 00:00:00 UTC</td>\n",
              "      <td>view</td>\n",
              "      <td>44600062</td>\n",
              "      <td>2103807459595387724</td>\n",
              "      <td>NaN</td>\n",
              "      <td>shiseido</td>\n",
              "      <td>35.79</td>\n",
              "      <td>541312140</td>\n",
              "      <td>72d76fde-8bb3-4e00-8c23-a032dfed738c</td>\n",
              "    </tr>\n",
              "    <tr>\n",
              "      <th>1</th>\n",
              "      <td>2019-10-01 00:00:00 UTC</td>\n",
              "      <td>view</td>\n",
              "      <td>3900821</td>\n",
              "      <td>2053013552326770905</td>\n",
              "      <td>appliances.environment.water_heater</td>\n",
              "      <td>aqua</td>\n",
              "      <td>33.20</td>\n",
              "      <td>554748717</td>\n",
              "      <td>9333dfbd-b87a-4708-9857-6336556b0fcc</td>\n",
              "    </tr>\n",
              "    <tr>\n",
              "      <th>2</th>\n",
              "      <td>2019-10-01 00:00:01 UTC</td>\n",
              "      <td>view</td>\n",
              "      <td>17200506</td>\n",
              "      <td>2053013559792632471</td>\n",
              "      <td>furniture.living_room.sofa</td>\n",
              "      <td>NaN</td>\n",
              "      <td>543.10</td>\n",
              "      <td>519107250</td>\n",
              "      <td>566511c2-e2e3-422b-b695-cf8e6e792ca8</td>\n",
              "    </tr>\n",
              "    <tr>\n",
              "      <th>3</th>\n",
              "      <td>2019-10-01 00:00:01 UTC</td>\n",
              "      <td>view</td>\n",
              "      <td>1307067</td>\n",
              "      <td>2053013558920217191</td>\n",
              "      <td>computers.notebook</td>\n",
              "      <td>lenovo</td>\n",
              "      <td>251.74</td>\n",
              "      <td>550050854</td>\n",
              "      <td>7c90fc70-0e80-4590-96f3-13c02c18c713</td>\n",
              "    </tr>\n",
              "    <tr>\n",
              "      <th>4</th>\n",
              "      <td>2019-10-01 00:00:04 UTC</td>\n",
              "      <td>view</td>\n",
              "      <td>1004237</td>\n",
              "      <td>2053013555631882655</td>\n",
              "      <td>electronics.smartphone</td>\n",
              "      <td>apple</td>\n",
              "      <td>1081.98</td>\n",
              "      <td>535871217</td>\n",
              "      <td>c6bd7419-2748-4c56-95b4-8cec9ff8b80d</td>\n",
              "    </tr>\n",
              "  </tbody>\n",
              "</table>\n",
              "</div>"
            ],
            "text/plain": [
              "                event_time event_type  product_id          category_id  \\\n",
              "0  2019-10-01 00:00:00 UTC       view    44600062  2103807459595387724   \n",
              "1  2019-10-01 00:00:00 UTC       view     3900821  2053013552326770905   \n",
              "2  2019-10-01 00:00:01 UTC       view    17200506  2053013559792632471   \n",
              "3  2019-10-01 00:00:01 UTC       view     1307067  2053013558920217191   \n",
              "4  2019-10-01 00:00:04 UTC       view     1004237  2053013555631882655   \n",
              "\n",
              "                         category_code     brand    price    user_id  \\\n",
              "0                                  NaN  shiseido    35.79  541312140   \n",
              "1  appliances.environment.water_heater      aqua    33.20  554748717   \n",
              "2           furniture.living_room.sofa       NaN   543.10  519107250   \n",
              "3                   computers.notebook    lenovo   251.74  550050854   \n",
              "4               electronics.smartphone     apple  1081.98  535871217   \n",
              "\n",
              "                           user_session  \n",
              "0  72d76fde-8bb3-4e00-8c23-a032dfed738c  \n",
              "1  9333dfbd-b87a-4708-9857-6336556b0fcc  \n",
              "2  566511c2-e2e3-422b-b695-cf8e6e792ca8  \n",
              "3  7c90fc70-0e80-4590-96f3-13c02c18c713  \n",
              "4  c6bd7419-2748-4c56-95b4-8cec9ff8b80d  "
            ]
          },
          "metadata": {},
          "output_type": "display_data"
        }
      ],
      "source": [
        "oct_df = pd.read_csv('2019-Oct.csv')\n",
        "print(oct_df.shape)\n",
        "display(oct_df.head())"
      ]
    },
    {
      "cell_type": "code",
      "execution_count": null,
      "id": "710e9721-7c31-40d2-ac3e-166e2d5519c7",
      "metadata": {
        "id": "710e9721-7c31-40d2-ac3e-166e2d5519c7",
        "outputId": "f4b80f49-cc3c-4f5e-b13a-a6d4d99aa12b"
      },
      "outputs": [
        {
          "name": "stdout",
          "output_type": "stream",
          "text": [
            "event_time              0\n",
            "event_type              0\n",
            "product_id              0\n",
            "category_id             0\n",
            "category_code    13515609\n",
            "brand             6117080\n",
            "price                   0\n",
            "user_id                 0\n",
            "user_session            2\n",
            "dtype: int64\n"
          ]
        }
      ],
      "source": [
        "print(oct_df.isna().sum())"
      ]
    },
    {
      "cell_type": "code",
      "execution_count": null,
      "id": "ef827148-2126-4227-8d48-2a1372682490",
      "metadata": {
        "id": "ef827148-2126-4227-8d48-2a1372682490",
        "outputId": "c6da1e1c-5a99-4f7f-d506-962c6ded2dc8"
      },
      "outputs": [
        {
          "name": "stdout",
          "output_type": "stream",
          "text": [
            "(26560620, 9)\n",
            "(26534109, 9)\n",
            "view        25200302\n",
            "cart          784361\n",
            "purchase      549446\n",
            "Name: event_type, dtype: int64\n",
            "60371\n"
          ]
        }
      ],
      "source": [
        "oct_df.dropna(inplace=True)\n",
        "print(oct_df.shape)\n",
        "oct_df.drop_duplicates(inplace=True)\n",
        "print(oct_df.shape)\n",
        "print(oct_df['event_type'].value_counts())\n",
        "print(oct_df['product_id'].nunique())"
      ]
    },
    {
      "cell_type": "code",
      "execution_count": null,
      "id": "75d272db-d8c3-4b9a-9b00-d34e0e6697d0",
      "metadata": {
        "id": "75d272db-d8c3-4b9a-9b00-d34e0e6697d0"
      },
      "outputs": [],
      "source": [
        "nov_df = pd.read_csv('2019-Nov.csv')"
      ]
    },
    {
      "cell_type": "code",
      "execution_count": null,
      "id": "0ddd6710-b4bd-4242-a2fe-6ce244993194",
      "metadata": {
        "id": "0ddd6710-b4bd-4242-a2fe-6ce244993194",
        "outputId": "dc27fb93-0df9-4b93-c3bf-c54f79274c2c"
      },
      "outputs": [
        {
          "name": "stdout",
          "output_type": "stream",
          "text": [
            "(42018766, 9)\n",
            "view        39314217\n",
            "cart         2045298\n",
            "purchase      659251\n",
            "Name: event_type, dtype: int64\n",
            "69773\n"
          ]
        },
        {
          "data": {
            "text/html": [
              "<div>\n",
              "<style scoped>\n",
              "    .dataframe tbody tr th:only-of-type {\n",
              "        vertical-align: middle;\n",
              "    }\n",
              "\n",
              "    .dataframe tbody tr th {\n",
              "        vertical-align: top;\n",
              "    }\n",
              "\n",
              "    .dataframe thead th {\n",
              "        text-align: right;\n",
              "    }\n",
              "</style>\n",
              "<table border=\"1\" class=\"dataframe\">\n",
              "  <thead>\n",
              "    <tr style=\"text-align: right;\">\n",
              "      <th></th>\n",
              "      <th>event_time</th>\n",
              "      <th>event_type</th>\n",
              "      <th>product_id</th>\n",
              "      <th>category_id</th>\n",
              "      <th>category_code</th>\n",
              "      <th>brand</th>\n",
              "      <th>price</th>\n",
              "      <th>user_id</th>\n",
              "      <th>user_session</th>\n",
              "    </tr>\n",
              "  </thead>\n",
              "  <tbody>\n",
              "    <tr>\n",
              "      <th>0</th>\n",
              "      <td>2019-11-01 00:00:00 UTC</td>\n",
              "      <td>view</td>\n",
              "      <td>1003461</td>\n",
              "      <td>2053013555631882655</td>\n",
              "      <td>electronics.smartphone</td>\n",
              "      <td>xiaomi</td>\n",
              "      <td>489.07</td>\n",
              "      <td>520088904</td>\n",
              "      <td>4d3b30da-a5e4-49df-b1a8-ba5943f1dd33</td>\n",
              "    </tr>\n",
              "    <tr>\n",
              "      <th>1</th>\n",
              "      <td>2019-11-01 00:00:00 UTC</td>\n",
              "      <td>view</td>\n",
              "      <td>5000088</td>\n",
              "      <td>2053013566100866035</td>\n",
              "      <td>appliances.sewing_machine</td>\n",
              "      <td>janome</td>\n",
              "      <td>293.65</td>\n",
              "      <td>530496790</td>\n",
              "      <td>8e5f4f83-366c-4f70-860e-ca7417414283</td>\n",
              "    </tr>\n",
              "    <tr>\n",
              "      <th>3</th>\n",
              "      <td>2019-11-01 00:00:01 UTC</td>\n",
              "      <td>view</td>\n",
              "      <td>3601530</td>\n",
              "      <td>2053013563810775923</td>\n",
              "      <td>appliances.kitchen.washer</td>\n",
              "      <td>lg</td>\n",
              "      <td>712.87</td>\n",
              "      <td>518085591</td>\n",
              "      <td>3bfb58cd-7892-48cc-8020-2f17e6de6e7f</td>\n",
              "    </tr>\n",
              "    <tr>\n",
              "      <th>4</th>\n",
              "      <td>2019-11-01 00:00:01 UTC</td>\n",
              "      <td>view</td>\n",
              "      <td>1004775</td>\n",
              "      <td>2053013555631882655</td>\n",
              "      <td>electronics.smartphone</td>\n",
              "      <td>xiaomi</td>\n",
              "      <td>183.27</td>\n",
              "      <td>558856683</td>\n",
              "      <td>313628f1-68b8-460d-84f6-cec7a8796ef2</td>\n",
              "    </tr>\n",
              "    <tr>\n",
              "      <th>5</th>\n",
              "      <td>2019-11-01 00:00:01 UTC</td>\n",
              "      <td>view</td>\n",
              "      <td>1306894</td>\n",
              "      <td>2053013558920217191</td>\n",
              "      <td>computers.notebook</td>\n",
              "      <td>hp</td>\n",
              "      <td>360.09</td>\n",
              "      <td>520772685</td>\n",
              "      <td>816a59f3-f5ae-4ccd-9b23-82aa8c23d33c</td>\n",
              "    </tr>\n",
              "  </tbody>\n",
              "</table>\n",
              "</div>"
            ],
            "text/plain": [
              "                event_time event_type  product_id          category_id  \\\n",
              "0  2019-11-01 00:00:00 UTC       view     1003461  2053013555631882655   \n",
              "1  2019-11-01 00:00:00 UTC       view     5000088  2053013566100866035   \n",
              "3  2019-11-01 00:00:01 UTC       view     3601530  2053013563810775923   \n",
              "4  2019-11-01 00:00:01 UTC       view     1004775  2053013555631882655   \n",
              "5  2019-11-01 00:00:01 UTC       view     1306894  2053013558920217191   \n",
              "\n",
              "               category_code   brand   price    user_id  \\\n",
              "0     electronics.smartphone  xiaomi  489.07  520088904   \n",
              "1  appliances.sewing_machine  janome  293.65  530496790   \n",
              "3  appliances.kitchen.washer      lg  712.87  518085591   \n",
              "4     electronics.smartphone  xiaomi  183.27  558856683   \n",
              "5         computers.notebook      hp  360.09  520772685   \n",
              "\n",
              "                           user_session  \n",
              "0  4d3b30da-a5e4-49df-b1a8-ba5943f1dd33  \n",
              "1  8e5f4f83-366c-4f70-860e-ca7417414283  \n",
              "3  3bfb58cd-7892-48cc-8020-2f17e6de6e7f  \n",
              "4  313628f1-68b8-460d-84f6-cec7a8796ef2  \n",
              "5  816a59f3-f5ae-4ccd-9b23-82aa8c23d33c  "
            ]
          },
          "metadata": {},
          "output_type": "display_data"
        }
      ],
      "source": [
        "nov_df.dropna(inplace=True)\n",
        "nov_df.drop_duplicates(inplace=True)\n",
        "print(nov_df.shape)\n",
        "print(nov_df['event_type'].value_counts())\n",
        "print(nov_df['product_id'].nunique())   \n",
        "display(nov_df.head())"
      ]
    },
    {
      "cell_type": "code",
      "execution_count": null,
      "id": "79d4e416-492b-4996-a89b-9a35c18ee10b",
      "metadata": {
        "id": "79d4e416-492b-4996-a89b-9a35c18ee10b",
        "outputId": "911995b8-d974-4ea8-ed15-47e98d0bb764"
      },
      "outputs": [
        {
          "name": "stdout",
          "output_type": "stream",
          "text": [
            "(68552875, 9)\n",
            "42056\n",
            "(68006415, 9)\n"
          ]
        },
        {
          "data": {
            "text/html": [
              "<div>\n",
              "<style scoped>\n",
              "    .dataframe tbody tr th:only-of-type {\n",
              "        vertical-align: middle;\n",
              "    }\n",
              "\n",
              "    .dataframe tbody tr th {\n",
              "        vertical-align: top;\n",
              "    }\n",
              "\n",
              "    .dataframe thead th {\n",
              "        text-align: right;\n",
              "    }\n",
              "</style>\n",
              "<table border=\"1\" class=\"dataframe\">\n",
              "  <thead>\n",
              "    <tr style=\"text-align: right;\">\n",
              "      <th></th>\n",
              "      <th>event_time</th>\n",
              "      <th>event_type</th>\n",
              "      <th>product_id</th>\n",
              "      <th>category_id</th>\n",
              "      <th>category_code</th>\n",
              "      <th>brand</th>\n",
              "      <th>price</th>\n",
              "      <th>user_id</th>\n",
              "      <th>user_session</th>\n",
              "    </tr>\n",
              "  </thead>\n",
              "  <tbody>\n",
              "    <tr>\n",
              "      <th>1</th>\n",
              "      <td>2019-10-01 00:00:00 UTC</td>\n",
              "      <td>view</td>\n",
              "      <td>3900821</td>\n",
              "      <td>2053013552326770905</td>\n",
              "      <td>appliances.environment.water_heater</td>\n",
              "      <td>aqua</td>\n",
              "      <td>33.20</td>\n",
              "      <td>554748717</td>\n",
              "      <td>9333dfbd-b87a-4708-9857-6336556b0fcc</td>\n",
              "    </tr>\n",
              "    <tr>\n",
              "      <th>3</th>\n",
              "      <td>2019-10-01 00:00:01 UTC</td>\n",
              "      <td>view</td>\n",
              "      <td>1307067</td>\n",
              "      <td>2053013558920217191</td>\n",
              "      <td>computers.notebook</td>\n",
              "      <td>lenovo</td>\n",
              "      <td>251.74</td>\n",
              "      <td>550050854</td>\n",
              "      <td>7c90fc70-0e80-4590-96f3-13c02c18c713</td>\n",
              "    </tr>\n",
              "    <tr>\n",
              "      <th>4</th>\n",
              "      <td>2019-10-01 00:00:04 UTC</td>\n",
              "      <td>view</td>\n",
              "      <td>1004237</td>\n",
              "      <td>2053013555631882655</td>\n",
              "      <td>electronics.smartphone</td>\n",
              "      <td>apple</td>\n",
              "      <td>1081.98</td>\n",
              "      <td>535871217</td>\n",
              "      <td>c6bd7419-2748-4c56-95b4-8cec9ff8b80d</td>\n",
              "    </tr>\n",
              "    <tr>\n",
              "      <th>5</th>\n",
              "      <td>2019-10-01 00:00:05 UTC</td>\n",
              "      <td>view</td>\n",
              "      <td>1480613</td>\n",
              "      <td>2053013561092866779</td>\n",
              "      <td>computers.desktop</td>\n",
              "      <td>pulser</td>\n",
              "      <td>908.62</td>\n",
              "      <td>512742880</td>\n",
              "      <td>0d0d91c2-c9c2-4e81-90a5-86594dec0db9</td>\n",
              "    </tr>\n",
              "    <tr>\n",
              "      <th>8</th>\n",
              "      <td>2019-10-01 00:00:10 UTC</td>\n",
              "      <td>view</td>\n",
              "      <td>28719074</td>\n",
              "      <td>2053013565480109009</td>\n",
              "      <td>apparel.shoes.keds</td>\n",
              "      <td>baden</td>\n",
              "      <td>102.71</td>\n",
              "      <td>520571932</td>\n",
              "      <td>ac1cd4e5-a3ce-4224-a2d7-ff660a105880</td>\n",
              "    </tr>\n",
              "  </tbody>\n",
              "</table>\n",
              "</div>"
            ],
            "text/plain": [
              "                event_time event_type  product_id          category_id  \\\n",
              "1  2019-10-01 00:00:00 UTC       view     3900821  2053013552326770905   \n",
              "3  2019-10-01 00:00:01 UTC       view     1307067  2053013558920217191   \n",
              "4  2019-10-01 00:00:04 UTC       view     1004237  2053013555631882655   \n",
              "5  2019-10-01 00:00:05 UTC       view     1480613  2053013561092866779   \n",
              "8  2019-10-01 00:00:10 UTC       view    28719074  2053013565480109009   \n",
              "\n",
              "                         category_code   brand    price    user_id  \\\n",
              "1  appliances.environment.water_heater    aqua    33.20  554748717   \n",
              "3                   computers.notebook  lenovo   251.74  550050854   \n",
              "4               electronics.smartphone   apple  1081.98  535871217   \n",
              "5                    computers.desktop  pulser   908.62  512742880   \n",
              "8                   apparel.shoes.keds   baden   102.71  520571932   \n",
              "\n",
              "                           user_session  \n",
              "1  9333dfbd-b87a-4708-9857-6336556b0fcc  \n",
              "3  7c90fc70-0e80-4590-96f3-13c02c18c713  \n",
              "4  c6bd7419-2748-4c56-95b4-8cec9ff8b80d  \n",
              "5  0d0d91c2-c9c2-4e81-90a5-86594dec0db9  \n",
              "8  ac1cd4e5-a3ce-4224-a2d7-ff660a105880  "
            ]
          },
          "metadata": {},
          "output_type": "display_data"
        }
      ],
      "source": [
        "behaviour_df = pd.concat([oct_df, nov_df])\n",
        "print(behaviour_df.shape)\n",
        "cb_df = behaviour_df[behaviour_df['product_id'].map(behaviour_df['product_id'].value_counts())>50]\n",
        "print(cb_df['product_id'].nunique())   \n",
        "print(cb_df.shape)\n",
        "display(cb_df.head())"
      ]
    },
    {
      "cell_type": "code",
      "execution_count": null,
      "id": "3acd9e51-18ef-4286-8a97-153b049982b3",
      "metadata": {
        "id": "3acd9e51-18ef-4286-8a97-153b049982b3"
      },
      "outputs": [],
      "source": [
        "del oct_df\n",
        "del nov_df\n",
        "del behaviour_df"
      ]
    },
    {
      "cell_type": "code",
      "execution_count": null,
      "id": "8aacb490-dfc0-42f4-9df1-2a6e3e74164b",
      "metadata": {
        "id": "8aacb490-dfc0-42f4-9df1-2a6e3e74164b"
      },
      "outputs": [],
      "source": [
        "cb_df.to_pickle('cust_behaviour.pkl')"
      ]
    },
    {
      "cell_type": "code",
      "execution_count": null,
      "id": "387a8c5a-665f-42ee-9c26-1e1fa8e4ab49",
      "metadata": {
        "id": "387a8c5a-665f-42ee-9c26-1e1fa8e4ab49",
        "outputId": "9c8d7302-6904-41cb-8fc3-a12b489dc26a"
      },
      "outputs": [
        {
          "name": "stdout",
          "output_type": "stream",
          "text": [
            "42056\n",
            "(68006415, 9)\n"
          ]
        }
      ],
      "source": [
        "cb_df = pd.read_pickle('cust_behaviour.pkl')\n",
        "print(cb_df['product_id'].nunique())   \n",
        "print(cb_df.shape)"
      ]
    },
    {
      "cell_type": "code",
      "execution_count": null,
      "id": "016fd550-6006-4082-b7d6-98db70c935e7",
      "metadata": {
        "id": "016fd550-6006-4082-b7d6-98db70c935e7",
        "outputId": "089638ab-6297-4896-dc93-36a41d21aefb"
      },
      "outputs": [
        {
          "name": "stdout",
          "output_type": "stream",
          "text": [
            "2574.07\n"
          ]
        }
      ],
      "source": [
        "max_value = cb_df['price'].max()\n",
        "print(max_value)"
      ]
    },
    {
      "cell_type": "code",
      "execution_count": null,
      "id": "e812ea2c-81ec-403f-b82c-649ebc2abad8",
      "metadata": {
        "id": "e812ea2c-81ec-403f-b82c-649ebc2abad8",
        "outputId": "a358f24f-a897-45b2-edb3-18d8de8f5c89"
      },
      "outputs": [
        {
          "data": {
            "text/html": [
              "<div>\n",
              "<style scoped>\n",
              "    .dataframe tbody tr th:only-of-type {\n",
              "        vertical-align: middle;\n",
              "    }\n",
              "\n",
              "    .dataframe tbody tr th {\n",
              "        vertical-align: top;\n",
              "    }\n",
              "\n",
              "    .dataframe thead th {\n",
              "        text-align: right;\n",
              "    }\n",
              "</style>\n",
              "<table border=\"1\" class=\"dataframe\">\n",
              "  <thead>\n",
              "    <tr style=\"text-align: right;\">\n",
              "      <th></th>\n",
              "      <th>event_time</th>\n",
              "      <th>event_type</th>\n",
              "      <th>category_code</th>\n",
              "      <th>brand</th>\n",
              "      <th>price</th>\n",
              "      <th>user_id</th>\n",
              "      <th>user_session</th>\n",
              "      <th>bins</th>\n",
              "      <th>product_id</th>\n",
              "    </tr>\n",
              "  </thead>\n",
              "  <tbody>\n",
              "    <tr>\n",
              "      <th>1</th>\n",
              "      <td>2019-10-01 00:00:00 UTC</td>\n",
              "      <td>view</td>\n",
              "      <td>appliances.environment.water_heater</td>\n",
              "      <td>aqua</td>\n",
              "      <td>33.20</td>\n",
              "      <td>554748717</td>\n",
              "      <td>9333dfbd-b87a-4708-9857-6336556b0fcc</td>\n",
              "      <td>(30.0, 40.0]</td>\n",
              "      <td>2735</td>\n",
              "    </tr>\n",
              "    <tr>\n",
              "      <th>3</th>\n",
              "      <td>2019-10-01 00:00:01 UTC</td>\n",
              "      <td>view</td>\n",
              "      <td>computers.notebook</td>\n",
              "      <td>lenovo</td>\n",
              "      <td>251.74</td>\n",
              "      <td>550050854</td>\n",
              "      <td>7c90fc70-0e80-4590-96f3-13c02c18c713</td>\n",
              "      <td>(250.0, 260.0]</td>\n",
              "      <td>13815</td>\n",
              "    </tr>\n",
              "    <tr>\n",
              "      <th>4</th>\n",
              "      <td>2019-10-01 00:00:04 UTC</td>\n",
              "      <td>view</td>\n",
              "      <td>electronics.smartphone</td>\n",
              "      <td>apple</td>\n",
              "      <td>1081.98</td>\n",
              "      <td>535871217</td>\n",
              "      <td>c6bd7419-2748-4c56-95b4-8cec9ff8b80d</td>\n",
              "      <td>(1080.0, 1090.0]</td>\n",
              "      <td>21204</td>\n",
              "    </tr>\n",
              "    <tr>\n",
              "      <th>5</th>\n",
              "      <td>2019-10-01 00:00:05 UTC</td>\n",
              "      <td>view</td>\n",
              "      <td>computers.desktop</td>\n",
              "      <td>pulser</td>\n",
              "      <td>908.62</td>\n",
              "      <td>512742880</td>\n",
              "      <td>0d0d91c2-c9c2-4e81-90a5-86594dec0db9</td>\n",
              "      <td>(900.0, 910.0]</td>\n",
              "      <td>13010</td>\n",
              "    </tr>\n",
              "    <tr>\n",
              "      <th>8</th>\n",
              "      <td>2019-10-01 00:00:10 UTC</td>\n",
              "      <td>view</td>\n",
              "      <td>apparel.shoes.keds</td>\n",
              "      <td>baden</td>\n",
              "      <td>102.71</td>\n",
              "      <td>520571932</td>\n",
              "      <td>ac1cd4e5-a3ce-4224-a2d7-ff660a105880</td>\n",
              "      <td>(100.0, 110.0]</td>\n",
              "      <td>1066</td>\n",
              "    </tr>\n",
              "  </tbody>\n",
              "</table>\n",
              "</div>"
            ],
            "text/plain": [
              "                event_time event_type                        category_code  \\\n",
              "1  2019-10-01 00:00:00 UTC       view  appliances.environment.water_heater   \n",
              "3  2019-10-01 00:00:01 UTC       view                   computers.notebook   \n",
              "4  2019-10-01 00:00:04 UTC       view               electronics.smartphone   \n",
              "5  2019-10-01 00:00:05 UTC       view                    computers.desktop   \n",
              "8  2019-10-01 00:00:10 UTC       view                   apparel.shoes.keds   \n",
              "\n",
              "    brand    price    user_id                          user_session  \\\n",
              "1    aqua    33.20  554748717  9333dfbd-b87a-4708-9857-6336556b0fcc   \n",
              "3  lenovo   251.74  550050854  7c90fc70-0e80-4590-96f3-13c02c18c713   \n",
              "4   apple  1081.98  535871217  c6bd7419-2748-4c56-95b4-8cec9ff8b80d   \n",
              "5  pulser   908.62  512742880  0d0d91c2-c9c2-4e81-90a5-86594dec0db9   \n",
              "8   baden   102.71  520571932  ac1cd4e5-a3ce-4224-a2d7-ff660a105880   \n",
              "\n",
              "               bins  product_id  \n",
              "1      (30.0, 40.0]        2735  \n",
              "3    (250.0, 260.0]       13815  \n",
              "4  (1080.0, 1090.0]       21204  \n",
              "5    (900.0, 910.0]       13010  \n",
              "8    (100.0, 110.0]        1066  "
            ]
          },
          "metadata": {},
          "output_type": "display_data"
        }
      ],
      "source": [
        "bins = np.arange(0,max_value + 100, 10)\n",
        "cb_df['bins'] = pd.cut(cb_df['price'], bins)\n",
        "\n",
        "cb_df = cb_df.drop(columns = ['product_id','category_id'])\n",
        "cb_df['product_id'] = cb_df.groupby(['category_code', 'brand', 'bins']).ngroup()\n",
        "display(cb_df.head())"
      ]
    },
    {
      "cell_type": "code",
      "execution_count": null,
      "id": "4292a6b2-d6cb-46ce-8d1d-7ba044d0751c",
      "metadata": {
        "id": "4292a6b2-d6cb-46ce-8d1d-7ba044d0751c",
        "outputId": "7f21006b-8d62-4d57-ab43-1aa2a8f4dec7"
      },
      "outputs": [
        {
          "name": "stdout",
          "output_type": "stream",
          "text": [
            "27000\n"
          ]
        }
      ],
      "source": [
        "print(cb_df['product_id'].nunique())  "
      ]
    },
    {
      "cell_type": "code",
      "execution_count": null,
      "id": "fe88a078-aa6a-476f-a447-d1f0fa153817",
      "metadata": {
        "id": "fe88a078-aa6a-476f-a447-d1f0fa153817"
      },
      "outputs": [],
      "source": [
        "cb_df = cb_df[cb_df.event_type != 'cart']"
      ]
    },
    {
      "cell_type": "code",
      "execution_count": null,
      "id": "1c7b7409-3418-496f-9b34-9ded53aeb3cf",
      "metadata": {
        "id": "1c7b7409-3418-496f-9b34-9ded53aeb3cf"
      },
      "outputs": [],
      "source": [
        "cb_df.to_pickle('cust_behaviour_updated.pkl')"
      ]
    },
    {
      "cell_type": "code",
      "execution_count": null,
      "id": "1f0d87fc-61cb-4378-913e-3fea1a6ae20a",
      "metadata": {
        "id": "1f0d87fc-61cb-4378-913e-3fea1a6ae20a"
      },
      "outputs": [],
      "source": [
        "co_view =[]\n",
        "view_df = cb_df[cb_df.event_type == 'view']\n",
        "\n",
        "view_df = view_df[['event_time', 'product_id', 'user_id', 'user_session']]"
      ]
    },
    {
      "cell_type": "code",
      "execution_count": null,
      "id": "13ecbf01-5275-4143-b0c4-782d284d117d",
      "metadata": {
        "id": "13ecbf01-5275-4143-b0c4-782d284d117d",
        "outputId": "edce843d-09ab-449e-e3b6-fa734ac899f6"
      },
      "outputs": [
        {
          "data": {
            "text/html": [
              "<div>\n",
              "<style scoped>\n",
              "    .dataframe tbody tr th:only-of-type {\n",
              "        vertical-align: middle;\n",
              "    }\n",
              "\n",
              "    .dataframe tbody tr th {\n",
              "        vertical-align: top;\n",
              "    }\n",
              "\n",
              "    .dataframe thead th {\n",
              "        text-align: right;\n",
              "    }\n",
              "</style>\n",
              "<table border=\"1\" class=\"dataframe\">\n",
              "  <thead>\n",
              "    <tr style=\"text-align: right;\">\n",
              "      <th></th>\n",
              "      <th>user_id</th>\n",
              "      <th>user_session</th>\n",
              "      <th>product_id</th>\n",
              "    </tr>\n",
              "  </thead>\n",
              "  <tbody>\n",
              "    <tr>\n",
              "      <th>0</th>\n",
              "      <td>29515875</td>\n",
              "      <td>27452feb-1b63-41cc-ac67-030d56f6d448</td>\n",
              "      <td>[22808, 22737, 22737, 22737]</td>\n",
              "    </tr>\n",
              "    <tr>\n",
              "      <th>1</th>\n",
              "      <td>29515875</td>\n",
              "      <td>447d6309-4efe-4662-a64d-b19992fbfe1c</td>\n",
              "      <td>[22808]</td>\n",
              "    </tr>\n",
              "    <tr>\n",
              "      <th>2</th>\n",
              "      <td>29515875</td>\n",
              "      <td>643be73e-13d4-4021-ac44-ca14f0833cd9</td>\n",
              "      <td>[23974]</td>\n",
              "    </tr>\n",
              "    <tr>\n",
              "      <th>3</th>\n",
              "      <td>29515875</td>\n",
              "      <td>eb6882fb-ead2-47a5-aa86-d171a2c3b6ff</td>\n",
              "      <td>[23955]</td>\n",
              "    </tr>\n",
              "    <tr>\n",
              "      <th>4</th>\n",
              "      <td>31198833</td>\n",
              "      <td>b9f5a88d-09a1-4327-a129-5e4425952f71</td>\n",
              "      <td>[21873, 21886, 21873, 21655, 21665, 21662, 216...</td>\n",
              "    </tr>\n",
              "  </tbody>\n",
              "</table>\n",
              "</div>"
            ],
            "text/plain": [
              "    user_id                          user_session  \\\n",
              "0  29515875  27452feb-1b63-41cc-ac67-030d56f6d448   \n",
              "1  29515875  447d6309-4efe-4662-a64d-b19992fbfe1c   \n",
              "2  29515875  643be73e-13d4-4021-ac44-ca14f0833cd9   \n",
              "3  29515875  eb6882fb-ead2-47a5-aa86-d171a2c3b6ff   \n",
              "4  31198833  b9f5a88d-09a1-4327-a129-5e4425952f71   \n",
              "\n",
              "                                          product_id  \n",
              "0                       [22808, 22737, 22737, 22737]  \n",
              "1                                            [22808]  \n",
              "2                                            [23974]  \n",
              "3                                            [23955]  \n",
              "4  [21873, 21886, 21873, 21655, 21665, 21662, 216...  "
            ]
          },
          "metadata": {},
          "output_type": "display_data"
        }
      ],
      "source": [
        "view_df = view_df.sort_values(['event_time'], ascending=True).groupby(['user_id', 'user_session'])['product_id'].apply(list).reset_index(name ='product_id')\n",
        "display(view_df.head())"
      ]
    },
    {
      "cell_type": "code",
      "execution_count": null,
      "id": "d1d171c5-58ec-45db-a0ab-dfdba1667965",
      "metadata": {
        "id": "d1d171c5-58ec-45db-a0ab-dfdba1667965",
        "outputId": "ba21ec6f-e980-474f-b98a-b42cb497e3d7"
      },
      "outputs": [
        {
          "name": "stdout",
          "output_type": "stream",
          "text": [
            "[[22808, 22737, 22737, 22737], [21873, 21886, 21873, 21655, 21665, 21662, 21648, 21666, 21419, 21877, 21872, 21871, 21873, 21890, 21666, 21670, 21864], [909, 908, 910, 908, 908, 935], [24771, 24539], [10616, 10616], [10711, 10711], [21852, 21852, 21852, 21852, 21852, 21403, 21864, 21864], [21852, 21852, 21852, 21865, 21865, 21865], [21852, 21856, 21866], [21852, 21852, 21852]]\n"
          ]
        }
      ],
      "source": [
        "view_list = list(view_df['product_id'])\n",
        "co_view = [ids for ids in view_list if len(ids)>1]\n",
        "print(co_view[:10])                "
      ]
    },
    {
      "cell_type": "code",
      "execution_count": null,
      "id": "1d2f1c4b-d7b4-44f3-9062-49c1ef0f0653",
      "metadata": {
        "id": "1d2f1c4b-d7b4-44f3-9062-49c1ef0f0653"
      },
      "outputs": [],
      "source": [
        "del view_df"
      ]
    },
    {
      "cell_type": "code",
      "execution_count": null,
      "id": "c9382491-0750-45c9-a702-95f994db8906",
      "metadata": {
        "id": "c9382491-0750-45c9-a702-95f994db8906",
        "outputId": "b5c26fe7-715f-4608-f33a-0b76d0d22ab1"
      },
      "outputs": [
        {
          "data": {
            "text/html": [
              "<div>\n",
              "<style scoped>\n",
              "    .dataframe tbody tr th:only-of-type {\n",
              "        vertical-align: middle;\n",
              "    }\n",
              "\n",
              "    .dataframe tbody tr th {\n",
              "        vertical-align: top;\n",
              "    }\n",
              "\n",
              "    .dataframe thead th {\n",
              "        text-align: right;\n",
              "    }\n",
              "</style>\n",
              "<table border=\"1\" class=\"dataframe\">\n",
              "  <thead>\n",
              "    <tr style=\"text-align: right;\">\n",
              "      <th></th>\n",
              "      <th>user_id</th>\n",
              "      <th>user_session</th>\n",
              "      <th>product_id</th>\n",
              "    </tr>\n",
              "  </thead>\n",
              "  <tbody>\n",
              "    <tr>\n",
              "      <th>0</th>\n",
              "      <td>225644257</td>\n",
              "      <td>3601c672-9a75-4627-b9be-576298187981</td>\n",
              "      <td>[11154]</td>\n",
              "    </tr>\n",
              "    <tr>\n",
              "      <th>1</th>\n",
              "      <td>253299396</td>\n",
              "      <td>e38b620b-6024-44e8-9db8-81a3a5b0e7e7</td>\n",
              "      <td>[4920]</td>\n",
              "    </tr>\n",
              "    <tr>\n",
              "      <th>2</th>\n",
              "      <td>256164170</td>\n",
              "      <td>56bbfca9-4dab-4d43-adf7-a47ea1ae8000</td>\n",
              "      <td>[2748]</td>\n",
              "    </tr>\n",
              "    <tr>\n",
              "      <th>3</th>\n",
              "      <td>296197073</td>\n",
              "      <td>068753bd-2ccb-4332-b15c-cdd77f83ce65</td>\n",
              "      <td>[10379]</td>\n",
              "    </tr>\n",
              "    <tr>\n",
              "      <th>4</th>\n",
              "      <td>299358698</td>\n",
              "      <td>b38e005b-0b9c-4bb4-aaa5-c88e7779d89c</td>\n",
              "      <td>[21858]</td>\n",
              "    </tr>\n",
              "  </tbody>\n",
              "</table>\n",
              "</div>"
            ],
            "text/plain": [
              "     user_id                          user_session product_id\n",
              "0  225644257  3601c672-9a75-4627-b9be-576298187981    [11154]\n",
              "1  253299396  e38b620b-6024-44e8-9db8-81a3a5b0e7e7     [4920]\n",
              "2  256164170  56bbfca9-4dab-4d43-adf7-a47ea1ae8000     [2748]\n",
              "3  296197073  068753bd-2ccb-4332-b15c-cdd77f83ce65    [10379]\n",
              "4  299358698  b38e005b-0b9c-4bb4-aaa5-c88e7779d89c    [21858]"
            ]
          },
          "metadata": {},
          "output_type": "display_data"
        }
      ],
      "source": [
        "co_purchase = []\n",
        "purchase_df = cb_df[cb_df.event_type == 'purchase']\n",
        "purchase_df = purchase_df[['event_time', 'product_id', 'user_id', 'user_session']]\n",
        "purchase_df = purchase_df.sort_values(['event_time'], ascending=True).groupby(['user_id', 'user_session'])['product_id'].apply(list).reset_index(name ='product_id')\n",
        "display(purchase_df.head())"
      ]
    },
    {
      "cell_type": "code",
      "execution_count": null,
      "id": "a969f8eb-00c7-4637-bcb0-8fe68f087682",
      "metadata": {
        "id": "a969f8eb-00c7-4637-bcb0-8fe68f087682",
        "outputId": "b773490d-208e-47b3-d729-984c04365a47"
      },
      "outputs": [
        {
          "name": "stdout",
          "output_type": "stream",
          "text": [
            "[[21191, 21187], [21651, 21155], [21642, 21642], [21611, 21604], [21595, 21595], [15252, 15252], [10711, 10711], [21641, 22175], [23036, 21642], [21559, 21559]]\n"
          ]
        }
      ],
      "source": [
        "purchase_list = list(purchase_df['product_id'])\n",
        "co_purchase = [ids for ids in purchase_list if len(ids)>1]\n",
        "print(co_purchase[:10]) "
      ]
    },
    {
      "cell_type": "code",
      "execution_count": null,
      "id": "06a27a85-c1b0-43b2-b1e1-4f3467d7fe7c",
      "metadata": {
        "id": "06a27a85-c1b0-43b2-b1e1-4f3467d7fe7c",
        "outputId": "eafd7c7d-0ada-4680-d55b-fec4fd8d7e88"
      },
      "outputs": [
        {
          "name": "stdout",
          "output_type": "stream",
          "text": [
            "15878977\n"
          ]
        },
        {
          "data": {
            "text/html": [
              "<div>\n",
              "<style scoped>\n",
              "    .dataframe tbody tr th:only-of-type {\n",
              "        vertical-align: middle;\n",
              "    }\n",
              "\n",
              "    .dataframe tbody tr th {\n",
              "        vertical-align: top;\n",
              "    }\n",
              "\n",
              "    .dataframe thead th {\n",
              "        text-align: right;\n",
              "    }\n",
              "</style>\n",
              "<table border=\"1\" class=\"dataframe\">\n",
              "  <thead>\n",
              "    <tr style=\"text-align: right;\">\n",
              "      <th></th>\n",
              "      <th>user_id</th>\n",
              "      <th>user_session</th>\n",
              "      <th>count</th>\n",
              "    </tr>\n",
              "  </thead>\n",
              "  <tbody>\n",
              "    <tr>\n",
              "      <th>0</th>\n",
              "      <td>29515875</td>\n",
              "      <td>27452feb-1b63-41cc-ac67-030d56f6d448</td>\n",
              "      <td>4</td>\n",
              "    </tr>\n",
              "    <tr>\n",
              "      <th>4</th>\n",
              "      <td>31198833</td>\n",
              "      <td>b9f5a88d-09a1-4327-a129-5e4425952f71</td>\n",
              "      <td>17</td>\n",
              "    </tr>\n",
              "    <tr>\n",
              "      <th>10</th>\n",
              "      <td>62336140</td>\n",
              "      <td>393afdaf-b61d-4dda-87ff-b8467a4201fa</td>\n",
              "      <td>6</td>\n",
              "    </tr>\n",
              "    <tr>\n",
              "      <th>20</th>\n",
              "      <td>94566147</td>\n",
              "      <td>3c4da186-6885-4170-9346-a2c835c44694</td>\n",
              "      <td>8</td>\n",
              "    </tr>\n",
              "    <tr>\n",
              "      <th>21</th>\n",
              "      <td>94566147</td>\n",
              "      <td>4ed0c71e-c378-401d-8c01-3712ba0d232d</td>\n",
              "      <td>6</td>\n",
              "    </tr>\n",
              "  </tbody>\n",
              "</table>\n",
              "</div>"
            ],
            "text/plain": [
              "     user_id                          user_session  count\n",
              "0   29515875  27452feb-1b63-41cc-ac67-030d56f6d448      4\n",
              "4   31198833  b9f5a88d-09a1-4327-a129-5e4425952f71     17\n",
              "10  62336140  393afdaf-b61d-4dda-87ff-b8467a4201fa      6\n",
              "20  94566147  3c4da186-6885-4170-9346-a2c835c44694      8\n",
              "21  94566147  4ed0c71e-c378-401d-8c01-3712ba0d232d      6"
            ]
          },
          "metadata": {},
          "output_type": "display_data"
        },
        {
          "name": "stdout",
          "output_type": "stream",
          "text": [
            "(6984332, 3)\n"
          ]
        }
      ],
      "source": [
        "sessions = list(cb_df.user_session.unique())\n",
        "print(len(sessions))\n",
        "sessions_df = cb_df.groupby(['user_id', 'user_session']).size().reset_index(name ='count')\n",
        "sessions_df = sessions_df[sessions_df['count'] > 2]\n",
        "display(sessions_df.head())\n",
        "print(sessions_df.shape)\n",
        "long_sessions= list(sessions_df['user_session'])"
      ]
    },
    {
      "cell_type": "code",
      "execution_count": null,
      "id": "0a23cc81-37a4-4025-b5dc-67a1a5276250",
      "metadata": {
        "id": "0a23cc81-37a4-4025-b5dc-67a1a5276250"
      },
      "outputs": [],
      "source": [
        "# print(purchase_df.shape)\n",
        "# purchase_sessions = list(cb_df.loc[cb_df['event_type']=='purchase', 'user_session'])\n",
        "# print(purchase_sessions[:10])\n",
        "# print(len(purchase_sessions))"
      ]
    },
    {
      "cell_type": "code",
      "execution_count": null,
      "id": "39a71737-6c74-41db-a873-e132d38ac3a6",
      "metadata": {
        "id": "39a71737-6c74-41db-a873-e132d38ac3a6",
        "outputId": "27a35d38-6a3a-4955-86da-695a656c0b51"
      },
      "outputs": [
        {
          "name": "stdout",
          "output_type": "stream",
          "text": [
            "['3601c672-9a75-4627-b9be-576298187981', 'e38b620b-6024-44e8-9db8-81a3a5b0e7e7', '56bbfca9-4dab-4d43-adf7-a47ea1ae8000', '068753bd-2ccb-4332-b15c-cdd77f83ce65', 'b38e005b-0b9c-4bb4-aaa5-c88e7779d89c', '8957377b-66b3-4661-ae91-5c2b5e29fd0e', 'a1cd5991-0cd2-464d-bb23-2583eda97092', '91c5e534-f55b-45d7-ad70-1d865b91d1ba', '95bd09f5-40ca-4f1f-b572-67492489dab8', 'db8c6768-1ce0-4389-810a-68796ef93f86']\n",
            "1024140\n"
          ]
        }
      ],
      "source": [
        "p_sessions =list(purchase_df['user_session'])\n",
        "print(p_sessions[:10])\n",
        "print(len(p_sessions))\n"
      ]
    },
    {
      "cell_type": "code",
      "execution_count": null,
      "id": "c7256e24-10d6-4898-8e94-e18473dd9696",
      "metadata": {
        "id": "c7256e24-10d6-4898-8e94-e18473dd9696"
      },
      "outputs": [],
      "source": [
        "del purchase_df"
      ]
    },
    {
      "cell_type": "code",
      "execution_count": null,
      "id": "01718369-10f1-4b0e-9832-44d094ef46d4",
      "metadata": {
        "id": "01718369-10f1-4b0e-9832-44d094ef46d4",
        "outputId": "297cab24-23d4-4c49-d398-fe0bf49241c8"
      },
      "outputs": [
        {
          "name": "stdout",
          "output_type": "stream",
          "text": [
            "831770\n",
            "['82451273-8c2e-43c2-add6-a7a12cf67439', 'fdd129d6-dc95-4683-8b2d-b4230f3ee087', 'c2092442-2ac0-471c-8fcf-608178678c42', '2d098c46-6eb5-46eb-af0f-8c84f2c8ca93', '774e6361-831f-4c25-9cb3-3162a1b80910', '7b5dc76a-5d6e-42b8-8d41-1d7597c59389', '96f10df4-e0d3-44b4-a377-95a76407734a', '7c13db9f-a242-405a-8809-e1a9fb9f35a4', 'c8dca9a8-e0b0-4ee2-a7ef-19bb4c9ee887', '3e6d6b4b-ecfc-4b23-85d1-a6c2ba0efdc8']\n"
          ]
        }
      ],
      "source": [
        "p_sessions = list(set(p_sessions).intersection(long_sessions))\n",
        "print(len(p_sessions))\n",
        "print(p_sessions[:10])"
      ]
    },
    {
      "cell_type": "code",
      "execution_count": null,
      "id": "b54b800f-5e2c-4bb5-b302-f69244afb2eb",
      "metadata": {
        "id": "b54b800f-5e2c-4bb5-b302-f69244afb2eb",
        "outputId": "f30dfb48-ff87-4bf0-c4ac-557f722fd798"
      },
      "outputs": [
        {
          "data": {
            "text/html": [
              "<div>\n",
              "<style scoped>\n",
              "    .dataframe tbody tr th:only-of-type {\n",
              "        vertical-align: middle;\n",
              "    }\n",
              "\n",
              "    .dataframe tbody tr th {\n",
              "        vertical-align: top;\n",
              "    }\n",
              "\n",
              "    .dataframe thead th {\n",
              "        text-align: right;\n",
              "    }\n",
              "</style>\n",
              "<table border=\"1\" class=\"dataframe\">\n",
              "  <thead>\n",
              "    <tr style=\"text-align: right;\">\n",
              "      <th></th>\n",
              "      <th>event_time</th>\n",
              "      <th>event_type</th>\n",
              "      <th>category_code</th>\n",
              "      <th>brand</th>\n",
              "      <th>price</th>\n",
              "      <th>user_id</th>\n",
              "      <th>user_session</th>\n",
              "      <th>bins</th>\n",
              "      <th>product_id</th>\n",
              "    </tr>\n",
              "  </thead>\n",
              "  <tbody>\n",
              "    <tr>\n",
              "      <th>18240458</th>\n",
              "      <td>2019-11-11 11:55:07 UTC</td>\n",
              "      <td>view</td>\n",
              "      <td>electronics.smartphone</td>\n",
              "      <td>apple</td>\n",
              "      <td>746.20</td>\n",
              "      <td>568105973</td>\n",
              "      <td>c8dca9a8-e0b0-4ee2-a7ef-19bb4c9ee887</td>\n",
              "      <td>(740.0, 750.0]</td>\n",
              "      <td>21170</td>\n",
              "    </tr>\n",
              "    <tr>\n",
              "      <th>18241917</th>\n",
              "      <td>2019-11-11 11:55:57 UTC</td>\n",
              "      <td>purchase</td>\n",
              "      <td>electronics.smartphone</td>\n",
              "      <td>apple</td>\n",
              "      <td>746.20</td>\n",
              "      <td>568105973</td>\n",
              "      <td>c8dca9a8-e0b0-4ee2-a7ef-19bb4c9ee887</td>\n",
              "      <td>(740.0, 750.0]</td>\n",
              "      <td>21170</td>\n",
              "    </tr>\n",
              "    <tr>\n",
              "      <th>18242757</th>\n",
              "      <td>2019-11-11 11:56:28 UTC</td>\n",
              "      <td>view</td>\n",
              "      <td>electronics.smartphone</td>\n",
              "      <td>apple</td>\n",
              "      <td>746.20</td>\n",
              "      <td>568105973</td>\n",
              "      <td>c8dca9a8-e0b0-4ee2-a7ef-19bb4c9ee887</td>\n",
              "      <td>(740.0, 750.0]</td>\n",
              "      <td>21170</td>\n",
              "    </tr>\n",
              "    <tr>\n",
              "      <th>18243716</th>\n",
              "      <td>2019-11-11 11:57:04 UTC</td>\n",
              "      <td>view</td>\n",
              "      <td>electronics.smartphone</td>\n",
              "      <td>apple</td>\n",
              "      <td>458.13</td>\n",
              "      <td>568105973</td>\n",
              "      <td>c8dca9a8-e0b0-4ee2-a7ef-19bb4c9ee887</td>\n",
              "      <td>(450.0, 460.0]</td>\n",
              "      <td>21143</td>\n",
              "    </tr>\n",
              "    <tr>\n",
              "      <th>18245259</th>\n",
              "      <td>2019-11-11 11:58:01 UTC</td>\n",
              "      <td>purchase</td>\n",
              "      <td>electronics.smartphone</td>\n",
              "      <td>apple</td>\n",
              "      <td>458.13</td>\n",
              "      <td>568105973</td>\n",
              "      <td>c8dca9a8-e0b0-4ee2-a7ef-19bb4c9ee887</td>\n",
              "      <td>(450.0, 460.0]</td>\n",
              "      <td>21143</td>\n",
              "    </tr>\n",
              "    <tr>\n",
              "      <th>18245948</th>\n",
              "      <td>2019-11-11 11:58:27 UTC</td>\n",
              "      <td>view</td>\n",
              "      <td>electronics.smartphone</td>\n",
              "      <td>apple</td>\n",
              "      <td>458.13</td>\n",
              "      <td>568105973</td>\n",
              "      <td>c8dca9a8-e0b0-4ee2-a7ef-19bb4c9ee887</td>\n",
              "      <td>(450.0, 460.0]</td>\n",
              "      <td>21143</td>\n",
              "    </tr>\n",
              "    <tr>\n",
              "      <th>18246490</th>\n",
              "      <td>2019-11-11 11:58:47 UTC</td>\n",
              "      <td>purchase</td>\n",
              "      <td>electronics.smartphone</td>\n",
              "      <td>apple</td>\n",
              "      <td>458.13</td>\n",
              "      <td>568105973</td>\n",
              "      <td>c8dca9a8-e0b0-4ee2-a7ef-19bb4c9ee887</td>\n",
              "      <td>(450.0, 460.0]</td>\n",
              "      <td>21143</td>\n",
              "    </tr>\n",
              "    <tr>\n",
              "      <th>18247133</th>\n",
              "      <td>2019-11-11 11:59:13 UTC</td>\n",
              "      <td>view</td>\n",
              "      <td>electronics.smartphone</td>\n",
              "      <td>apple</td>\n",
              "      <td>458.13</td>\n",
              "      <td>568105973</td>\n",
              "      <td>c8dca9a8-e0b0-4ee2-a7ef-19bb4c9ee887</td>\n",
              "      <td>(450.0, 460.0]</td>\n",
              "      <td>21143</td>\n",
              "    </tr>\n",
              "  </tbody>\n",
              "</table>\n",
              "</div>"
            ],
            "text/plain": [
              "                       event_time event_type           category_code  brand  \\\n",
              "18240458  2019-11-11 11:55:07 UTC       view  electronics.smartphone  apple   \n",
              "18241917  2019-11-11 11:55:57 UTC   purchase  electronics.smartphone  apple   \n",
              "18242757  2019-11-11 11:56:28 UTC       view  electronics.smartphone  apple   \n",
              "18243716  2019-11-11 11:57:04 UTC       view  electronics.smartphone  apple   \n",
              "18245259  2019-11-11 11:58:01 UTC   purchase  electronics.smartphone  apple   \n",
              "18245948  2019-11-11 11:58:27 UTC       view  electronics.smartphone  apple   \n",
              "18246490  2019-11-11 11:58:47 UTC   purchase  electronics.smartphone  apple   \n",
              "18247133  2019-11-11 11:59:13 UTC       view  electronics.smartphone  apple   \n",
              "\n",
              "           price    user_id                          user_session  \\\n",
              "18240458  746.20  568105973  c8dca9a8-e0b0-4ee2-a7ef-19bb4c9ee887   \n",
              "18241917  746.20  568105973  c8dca9a8-e0b0-4ee2-a7ef-19bb4c9ee887   \n",
              "18242757  746.20  568105973  c8dca9a8-e0b0-4ee2-a7ef-19bb4c9ee887   \n",
              "18243716  458.13  568105973  c8dca9a8-e0b0-4ee2-a7ef-19bb4c9ee887   \n",
              "18245259  458.13  568105973  c8dca9a8-e0b0-4ee2-a7ef-19bb4c9ee887   \n",
              "18245948  458.13  568105973  c8dca9a8-e0b0-4ee2-a7ef-19bb4c9ee887   \n",
              "18246490  458.13  568105973  c8dca9a8-e0b0-4ee2-a7ef-19bb4c9ee887   \n",
              "18247133  458.13  568105973  c8dca9a8-e0b0-4ee2-a7ef-19bb4c9ee887   \n",
              "\n",
              "                    bins  product_id  \n",
              "18240458  (740.0, 750.0]       21170  \n",
              "18241917  (740.0, 750.0]       21170  \n",
              "18242757  (740.0, 750.0]       21170  \n",
              "18243716  (450.0, 460.0]       21143  \n",
              "18245259  (450.0, 460.0]       21143  \n",
              "18245948  (450.0, 460.0]       21143  \n",
              "18246490  (450.0, 460.0]       21143  \n",
              "18247133  (450.0, 460.0]       21143  "
            ]
          },
          "metadata": {},
          "output_type": "display_data"
        }
      ],
      "source": [
        "display(cb_df[cb_df['user_session']=='c8dca9a8-e0b0-4ee2-a7ef-19bb4c9ee887'])"
      ]
    },
    {
      "cell_type": "code",
      "execution_count": null,
      "id": "fa4843d7-7c2f-48ef-a056-bb07ca72c4e0",
      "metadata": {
        "id": "fa4843d7-7c2f-48ef-a056-bb07ca72c4e0"
      },
      "outputs": [],
      "source": [
        "graph_df = pd.DataFrame(columns=['product_1', 'product_2', 'relation'])"
      ]
    },
    {
      "cell_type": "code",
      "execution_count": null,
      "id": "b0f7b012-c6c7-43c0-8d56-5f914957978e",
      "metadata": {
        "id": "b0f7b012-c6c7-43c0-8d56-5f914957978e",
        "outputId": "55be901b-0b62-4a1c-f482-40f361ef5bd5"
      },
      "outputs": [
        {
          "data": {
            "text/html": [
              "<div>\n",
              "<style scoped>\n",
              "    .dataframe tbody tr th:only-of-type {\n",
              "        vertical-align: middle;\n",
              "    }\n",
              "\n",
              "    .dataframe tbody tr th {\n",
              "        vertical-align: top;\n",
              "    }\n",
              "\n",
              "    .dataframe thead th {\n",
              "        text-align: right;\n",
              "    }\n",
              "</style>\n",
              "<table border=\"1\" class=\"dataframe\">\n",
              "  <thead>\n",
              "    <tr style=\"text-align: right;\">\n",
              "      <th></th>\n",
              "      <th>product_1</th>\n",
              "      <th>product_2</th>\n",
              "      <th>relation</th>\n",
              "    </tr>\n",
              "  </thead>\n",
              "  <tbody>\n",
              "    <tr>\n",
              "      <th>0</th>\n",
              "      <td>2735</td>\n",
              "      <td>2748</td>\n",
              "      <td>p_after_v</td>\n",
              "    </tr>\n",
              "    <tr>\n",
              "      <th>1</th>\n",
              "      <td>21641</td>\n",
              "      <td>21858</td>\n",
              "      <td>p_after_v</td>\n",
              "    </tr>\n",
              "    <tr>\n",
              "      <th>2</th>\n",
              "      <td>22329</td>\n",
              "      <td>21403</td>\n",
              "      <td>p_after_v</td>\n",
              "    </tr>\n",
              "    <tr>\n",
              "      <th>3</th>\n",
              "      <td>6025</td>\n",
              "      <td>6155</td>\n",
              "      <td>p_after_v</td>\n",
              "    </tr>\n",
              "    <tr>\n",
              "      <th>4</th>\n",
              "      <td>22345</td>\n",
              "      <td>22315</td>\n",
              "      <td>p_after_v</td>\n",
              "    </tr>\n",
              "  </tbody>\n",
              "</table>\n",
              "</div>"
            ],
            "text/plain": [
              "  product_1 product_2   relation\n",
              "0      2735      2748  p_after_v\n",
              "1     21641     21858  p_after_v\n",
              "2     22329     21403  p_after_v\n",
              "3      6025      6155  p_after_v\n",
              "4     22345     22315  p_after_v"
            ]
          },
          "metadata": {},
          "output_type": "display_data"
        }
      ],
      "source": [
        "v_products = []\n",
        "for v_list in co_view:\n",
        "    for x, y in zip(v_list[:-1], v_list[1:]):\n",
        "        if x == y:\n",
        "            continue\n",
        "        else:\n",
        "            lst = {'product_1' : x, 'product_2' : y, 'relation' : 'co_view'}\n",
        "            v_products.append(lst)\n",
        "graph_df = graph_df.append(v_products)\n",
        "display(graph_df.head())"
      ]
    },
    {
      "cell_type": "code",
      "execution_count": null,
      "id": "4b8ce7ac-899c-44dc-a252-8c2250324ed3",
      "metadata": {
        "id": "4b8ce7ac-899c-44dc-a252-8c2250324ed3",
        "outputId": "e48d5edb-151e-4984-d674-36f594501618"
      },
      "outputs": [
        {
          "name": "stdout",
          "output_type": "stream",
          "text": [
            "(27820243, 3)\n",
            "(3644695, 3)\n"
          ]
        },
        {
          "data": {
            "text/html": [
              "<div>\n",
              "<style scoped>\n",
              "    .dataframe tbody tr th:only-of-type {\n",
              "        vertical-align: middle;\n",
              "    }\n",
              "\n",
              "    .dataframe tbody tr th {\n",
              "        vertical-align: top;\n",
              "    }\n",
              "\n",
              "    .dataframe thead th {\n",
              "        text-align: right;\n",
              "    }\n",
              "</style>\n",
              "<table border=\"1\" class=\"dataframe\">\n",
              "  <thead>\n",
              "    <tr style=\"text-align: right;\">\n",
              "      <th></th>\n",
              "      <th>product_1</th>\n",
              "      <th>product_2</th>\n",
              "      <th>relation</th>\n",
              "    </tr>\n",
              "  </thead>\n",
              "  <tbody>\n",
              "    <tr>\n",
              "      <th>0</th>\n",
              "      <td>2735</td>\n",
              "      <td>2748</td>\n",
              "      <td>p_after_v</td>\n",
              "    </tr>\n",
              "    <tr>\n",
              "      <th>1</th>\n",
              "      <td>21641</td>\n",
              "      <td>21858</td>\n",
              "      <td>p_after_v</td>\n",
              "    </tr>\n",
              "    <tr>\n",
              "      <th>2</th>\n",
              "      <td>22329</td>\n",
              "      <td>21403</td>\n",
              "      <td>p_after_v</td>\n",
              "    </tr>\n",
              "    <tr>\n",
              "      <th>3</th>\n",
              "      <td>6025</td>\n",
              "      <td>6155</td>\n",
              "      <td>p_after_v</td>\n",
              "    </tr>\n",
              "    <tr>\n",
              "      <th>4</th>\n",
              "      <td>22345</td>\n",
              "      <td>22315</td>\n",
              "      <td>p_after_v</td>\n",
              "    </tr>\n",
              "  </tbody>\n",
              "</table>\n",
              "</div>"
            ],
            "text/plain": [
              "  product_1 product_2   relation\n",
              "0      2735      2748  p_after_v\n",
              "1     21641     21858  p_after_v\n",
              "2     22329     21403  p_after_v\n",
              "3      6025      6155  p_after_v\n",
              "4     22345     22315  p_after_v"
            ]
          },
          "metadata": {},
          "output_type": "display_data"
        },
        {
          "name": "stdout",
          "output_type": "stream",
          "text": [
            "Coview (3495638, 3)\n"
          ]
        }
      ],
      "source": [
        "print(graph_df.shape)\n",
        "graph_df.drop_duplicates(inplace=True)\n",
        "graph_df.reset_index(drop=True)\n",
        "print(graph_df.shape)\n",
        "display(graph_df.head())\n",
        "print('Coview', graph_df[graph_df['relation'] == 'co_view'].shape)"
      ]
    },
    {
      "cell_type": "code",
      "execution_count": null,
      "id": "8622f797-519d-4cd9-b31f-759ade87385a",
      "metadata": {
        "id": "8622f797-519d-4cd9-b31f-759ade87385a"
      },
      "outputs": [],
      "source": [
        "g_df = graph_df.copy()\n",
        "\n",
        "print(g_df.shape)"
      ]
    },
    {
      "cell_type": "code",
      "execution_count": null,
      "id": "f465e3d0-0d57-46df-bc95-d10dfa928b91",
      "metadata": {
        "id": "f465e3d0-0d57-46df-bc95-d10dfa928b91"
      },
      "outputs": [],
      "source": [
        "graph_df = pd.read_pickle('cust_events.pkl')\n",
        "display(graph_df.shape)\n",
        "\n",
        "print(graph_df.shape)\n",
        "graph_df.drop_duplicates(inplace=True)\n",
        "graph_df.reset_index(drop=True)\n",
        "print(graph_df.shape)\n",
        "display(graph_df.head())"
      ]
    },
    {
      "cell_type": "code",
      "execution_count": null,
      "id": "a7b17612-6d5d-4666-8888-460717ac2da0",
      "metadata": {
        "id": "a7b17612-6d5d-4666-8888-460717ac2da0",
        "outputId": "2a0434a2-d8db-4c1a-a1ca-1ebadad51c30"
      },
      "outputs": [
        {
          "name": "stdout",
          "output_type": "stream",
          "text": [
            "(65180535, 9)\n",
            "(65180535, 5)\n"
          ]
        }
      ],
      "source": [
        "cbr_df = cb_df[['event_time','event_type', 'product_id', 'user_id','user_session']]\n",
        "print(cb_df.shape)\n",
        "print(cbr_df.shape)"
      ]
    },
    {
      "cell_type": "code",
      "execution_count": null,
      "id": "1e61ae96-06e7-401f-b8a1-2839b4fbf857",
      "metadata": {
        "id": "1e61ae96-06e7-401f-b8a1-2839b4fbf857",
        "outputId": "58b99f80-c543-43a0-c909-60a3e126e680"
      },
      "outputs": [
        {
          "name": "stdout",
          "output_type": "stream",
          "text": [
            "(5950776, 5)\n"
          ]
        }
      ],
      "source": [
        "cbr_df = cbr_df[cbr_df.user_session.isin(p_sessions)]\n",
        "print(cbr_df.shape)"
      ]
    },
    {
      "cell_type": "code",
      "execution_count": null,
      "id": "103c1533-d55b-47f4-b193-293de6edaf82",
      "metadata": {
        "id": "103c1533-d55b-47f4-b193-293de6edaf82",
        "outputId": "d920a4ef-4d16-443c-8fcb-3dd489147ef9"
      },
      "outputs": [
        {
          "data": {
            "text/html": [
              "<div>\n",
              "<style scoped>\n",
              "    .dataframe tbody tr th:only-of-type {\n",
              "        vertical-align: middle;\n",
              "    }\n",
              "\n",
              "    .dataframe tbody tr th {\n",
              "        vertical-align: top;\n",
              "    }\n",
              "\n",
              "    .dataframe thead th {\n",
              "        text-align: right;\n",
              "    }\n",
              "</style>\n",
              "<table border=\"1\" class=\"dataframe\">\n",
              "  <thead>\n",
              "    <tr style=\"text-align: right;\">\n",
              "      <th></th>\n",
              "      <th>event_time</th>\n",
              "      <th>event_type</th>\n",
              "      <th>product_id</th>\n",
              "      <th>user_id</th>\n",
              "      <th>user_session</th>\n",
              "    </tr>\n",
              "  </thead>\n",
              "  <tbody>\n",
              "    <tr>\n",
              "      <th>127</th>\n",
              "      <td>2019-10-01 00:01:45 UTC</td>\n",
              "      <td>view</td>\n",
              "      <td>21159</td>\n",
              "      <td>551377651</td>\n",
              "      <td>3c80f0d6-e9ec-4181-8c5c-837a30be2d68</td>\n",
              "    </tr>\n",
              "    <tr>\n",
              "      <th>129</th>\n",
              "      <td>2019-10-01 00:01:46 UTC</td>\n",
              "      <td>view</td>\n",
              "      <td>21642</td>\n",
              "      <td>543272936</td>\n",
              "      <td>8187d148-3c41-46d4-b0c0-9c08cd9dc564</td>\n",
              "    </tr>\n",
              "    <tr>\n",
              "      <th>152</th>\n",
              "      <td>2019-10-01 00:02:08 UTC</td>\n",
              "      <td>view</td>\n",
              "      <td>21162</td>\n",
              "      <td>551377651</td>\n",
              "      <td>3c80f0d6-e9ec-4181-8c5c-837a30be2d68</td>\n",
              "    </tr>\n",
              "    <tr>\n",
              "      <th>162</th>\n",
              "      <td>2019-10-01 00:02:14 UTC</td>\n",
              "      <td>purchase</td>\n",
              "      <td>21642</td>\n",
              "      <td>543272936</td>\n",
              "      <td>8187d148-3c41-46d4-b0c0-9c08cd9dc564</td>\n",
              "    </tr>\n",
              "    <tr>\n",
              "      <th>200</th>\n",
              "      <td>2019-10-01 00:02:47 UTC</td>\n",
              "      <td>view</td>\n",
              "      <td>21162</td>\n",
              "      <td>551377651</td>\n",
              "      <td>3c80f0d6-e9ec-4181-8c5c-837a30be2d68</td>\n",
              "    </tr>\n",
              "  </tbody>\n",
              "</table>\n",
              "</div>"
            ],
            "text/plain": [
              "                  event_time event_type  product_id    user_id  \\\n",
              "127  2019-10-01 00:01:45 UTC       view       21159  551377651   \n",
              "129  2019-10-01 00:01:46 UTC       view       21642  543272936   \n",
              "152  2019-10-01 00:02:08 UTC       view       21162  551377651   \n",
              "162  2019-10-01 00:02:14 UTC   purchase       21642  543272936   \n",
              "200  2019-10-01 00:02:47 UTC       view       21162  551377651   \n",
              "\n",
              "                             user_session  \n",
              "127  3c80f0d6-e9ec-4181-8c5c-837a30be2d68  \n",
              "129  8187d148-3c41-46d4-b0c0-9c08cd9dc564  \n",
              "152  3c80f0d6-e9ec-4181-8c5c-837a30be2d68  \n",
              "162  8187d148-3c41-46d4-b0c0-9c08cd9dc564  \n",
              "200  3c80f0d6-e9ec-4181-8c5c-837a30be2d68  "
            ]
          },
          "metadata": {},
          "output_type": "display_data"
        }
      ],
      "source": [
        "display(cbr_df.head())"
      ]
    },
    {
      "cell_type": "code",
      "execution_count": null,
      "id": "5d258afe-bc5c-4477-9e0a-9bff36afabb5",
      "metadata": {
        "id": "5d258afe-bc5c-4477-9e0a-9bff36afabb5"
      },
      "outputs": [],
      "source": [
        "cbrt_df = cbr_df.sort_values(['event_time'], ascending=True).groupby(['user_id','user_session'])"
      ]
    },
    {
      "cell_type": "code",
      "execution_count": null,
      "id": "849d282f-1af8-4e1e-bb5b-9ed89d2ede4a",
      "metadata": {
        "id": "849d282f-1af8-4e1e-bb5b-9ed89d2ede4a",
        "outputId": "0824290d-d192-4303-c7fb-cc3e672f893d"
      },
      "outputs": [
        {
          "name": "stderr",
          "output_type": "stream",
          "text": [
            "100%|██████████| 831774/831774 [06:25<00:00, 2155.14it/s]\n"
          ]
        }
      ],
      "source": [
        "purchase_after_view = []\n",
        "for group_name, df_group in tqdm(cbrt_df):\n",
        "    product = ''\n",
        "    for row in df_group.itertuples():\n",
        "        if row.event_type == 'view' and product == '':\n",
        "            product = row.product_id\n",
        "        if row.event_type == 'purchase' and row.product_id != product and product != '':\n",
        "            purchase_after_view.append([product, row.product_id])\n",
        "            product =''"
      ]
    },
    {
      "cell_type": "code",
      "execution_count": null,
      "id": "0190f60a-682f-4fa4-94ad-121757f841a0",
      "metadata": {
        "id": "0190f60a-682f-4fa4-94ad-121757f841a0",
        "outputId": "9c32c279-0278-4663-ac40-1948ff4fd315"
      },
      "outputs": [
        {
          "name": "stdout",
          "output_type": "stream",
          "text": [
            "0\n",
            "397728\n"
          ]
        }
      ],
      "source": [
        "print(len(graph_df))\n",
        "v_products = []\n",
        "for v_list in purchase_after_view:\n",
        "    lst = {'product_1' : v_list[0], 'product_2' : v_list[1], 'relation' : 'p_after_v'}\n",
        "    v_products.append(lst)\n",
        "graph_df = graph_df.append(v_products, ignore_index=True)\n",
        "print(len(graph_df))"
      ]
    },
    {
      "cell_type": "code",
      "execution_count": null,
      "id": "b003bd3e-ce43-41ed-b7c5-a8270ff774e8",
      "metadata": {
        "id": "b003bd3e-ce43-41ed-b7c5-a8270ff774e8",
        "outputId": "c8393b8c-f13b-4264-9138-660e31b767e5"
      },
      "outputs": [
        {
          "name": "stdout",
          "output_type": "stream",
          "text": [
            "(397728, 3)\n",
            "(149057, 3)\n"
          ]
        },
        {
          "data": {
            "text/html": [
              "<div>\n",
              "<style scoped>\n",
              "    .dataframe tbody tr th:only-of-type {\n",
              "        vertical-align: middle;\n",
              "    }\n",
              "\n",
              "    .dataframe tbody tr th {\n",
              "        vertical-align: top;\n",
              "    }\n",
              "\n",
              "    .dataframe thead th {\n",
              "        text-align: right;\n",
              "    }\n",
              "</style>\n",
              "<table border=\"1\" class=\"dataframe\">\n",
              "  <thead>\n",
              "    <tr style=\"text-align: right;\">\n",
              "      <th></th>\n",
              "      <th>product_1</th>\n",
              "      <th>product_2</th>\n",
              "      <th>relation</th>\n",
              "    </tr>\n",
              "  </thead>\n",
              "  <tbody>\n",
              "    <tr>\n",
              "      <th>0</th>\n",
              "      <td>2735</td>\n",
              "      <td>2748</td>\n",
              "      <td>p_after_v</td>\n",
              "    </tr>\n",
              "    <tr>\n",
              "      <th>1</th>\n",
              "      <td>21641</td>\n",
              "      <td>21858</td>\n",
              "      <td>p_after_v</td>\n",
              "    </tr>\n",
              "    <tr>\n",
              "      <th>2</th>\n",
              "      <td>22329</td>\n",
              "      <td>21403</td>\n",
              "      <td>p_after_v</td>\n",
              "    </tr>\n",
              "    <tr>\n",
              "      <th>3</th>\n",
              "      <td>6025</td>\n",
              "      <td>6155</td>\n",
              "      <td>p_after_v</td>\n",
              "    </tr>\n",
              "    <tr>\n",
              "      <th>4</th>\n",
              "      <td>22345</td>\n",
              "      <td>22315</td>\n",
              "      <td>p_after_v</td>\n",
              "    </tr>\n",
              "  </tbody>\n",
              "</table>\n",
              "</div>"
            ],
            "text/plain": [
              "  product_1 product_2   relation\n",
              "0      2735      2748  p_after_v\n",
              "1     21641     21858  p_after_v\n",
              "2     22329     21403  p_after_v\n",
              "3      6025      6155  p_after_v\n",
              "4     22345     22315  p_after_v"
            ]
          },
          "metadata": {},
          "output_type": "display_data"
        }
      ],
      "source": [
        "print(graph_df.shape)\n",
        "graph_df.drop_duplicates(inplace=True)\n",
        "graph_df.reset_index(drop=True)\n",
        "print(graph_df.shape)\n",
        "display(graph_df.head())"
      ]
    },
    {
      "cell_type": "code",
      "execution_count": null,
      "id": "12f3b657-4836-499e-b1c3-ceb2b39ea558",
      "metadata": {
        "id": "12f3b657-4836-499e-b1c3-ceb2b39ea558"
      },
      "outputs": [],
      "source": [
        "v_products = []\n",
        "for v_list in co_purchase:\n",
        "    for i in range(len(v_list[:-1])):\n",
        "        sub_list = v_list[i+1:]\n",
        "        for y in sub_list:\n",
        "            if v_list[i] != y:\n",
        "                lst = {'product_1' : v_list[i], 'product_2' : y, 'relation' : 'co_purchase'}\n",
        "                v_products.append(lst)\n",
        "graph_df = graph_df.append(v_products)                "
      ]
    },
    {
      "cell_type": "code",
      "execution_count": null,
      "id": "bcb77871-bf29-49c1-9efd-63eff8106c83",
      "metadata": {
        "id": "bcb77871-bf29-49c1-9efd-63eff8106c83",
        "outputId": "6bc9e5f1-58b4-4acd-8da4-a8c6b1be246a"
      },
      "outputs": [
        {
          "data": {
            "text/html": [
              "<div>\n",
              "<style scoped>\n",
              "    .dataframe tbody tr th:only-of-type {\n",
              "        vertical-align: middle;\n",
              "    }\n",
              "\n",
              "    .dataframe tbody tr th {\n",
              "        vertical-align: top;\n",
              "    }\n",
              "\n",
              "    .dataframe thead th {\n",
              "        text-align: right;\n",
              "    }\n",
              "</style>\n",
              "<table border=\"1\" class=\"dataframe\">\n",
              "  <thead>\n",
              "    <tr style=\"text-align: right;\">\n",
              "      <th></th>\n",
              "      <th>product_1</th>\n",
              "      <th>product_2</th>\n",
              "      <th>relation</th>\n",
              "    </tr>\n",
              "  </thead>\n",
              "  <tbody>\n",
              "    <tr>\n",
              "      <th>0</th>\n",
              "      <td>21191</td>\n",
              "      <td>21187</td>\n",
              "      <td>co_purchase</td>\n",
              "    </tr>\n",
              "    <tr>\n",
              "      <th>1</th>\n",
              "      <td>21651</td>\n",
              "      <td>21155</td>\n",
              "      <td>co_purchase</td>\n",
              "    </tr>\n",
              "    <tr>\n",
              "      <th>2</th>\n",
              "      <td>21611</td>\n",
              "      <td>21604</td>\n",
              "      <td>co_purchase</td>\n",
              "    </tr>\n",
              "    <tr>\n",
              "      <th>3</th>\n",
              "      <td>21641</td>\n",
              "      <td>22175</td>\n",
              "      <td>co_purchase</td>\n",
              "    </tr>\n",
              "    <tr>\n",
              "      <th>4</th>\n",
              "      <td>23036</td>\n",
              "      <td>21642</td>\n",
              "      <td>co_purchase</td>\n",
              "    </tr>\n",
              "    <tr>\n",
              "      <th>...</th>\n",
              "      <td>...</td>\n",
              "      <td>...</td>\n",
              "      <td>...</td>\n",
              "    </tr>\n",
              "    <tr>\n",
              "      <th>169320</th>\n",
              "      <td>21645</td>\n",
              "      <td>21641</td>\n",
              "      <td>co_purchase</td>\n",
              "    </tr>\n",
              "    <tr>\n",
              "      <th>169321</th>\n",
              "      <td>21642</td>\n",
              "      <td>21404</td>\n",
              "      <td>co_purchase</td>\n",
              "    </tr>\n",
              "    <tr>\n",
              "      <th>169322</th>\n",
              "      <td>21645</td>\n",
              "      <td>21593</td>\n",
              "      <td>co_purchase</td>\n",
              "    </tr>\n",
              "    <tr>\n",
              "      <th>169323</th>\n",
              "      <td>21710</td>\n",
              "      <td>21175</td>\n",
              "      <td>co_purchase</td>\n",
              "    </tr>\n",
              "    <tr>\n",
              "      <th>169324</th>\n",
              "      <td>21663</td>\n",
              "      <td>21657</td>\n",
              "      <td>co_purchase</td>\n",
              "    </tr>\n",
              "  </tbody>\n",
              "</table>\n",
              "<p>169325 rows × 3 columns</p>\n",
              "</div>"
            ],
            "text/plain": [
              "       product_1 product_2     relation\n",
              "0          21191     21187  co_purchase\n",
              "1          21651     21155  co_purchase\n",
              "2          21611     21604  co_purchase\n",
              "3          21641     22175  co_purchase\n",
              "4          23036     21642  co_purchase\n",
              "...          ...       ...          ...\n",
              "169320     21645     21641  co_purchase\n",
              "169321     21642     21404  co_purchase\n",
              "169322     21645     21593  co_purchase\n",
              "169323     21710     21175  co_purchase\n",
              "169324     21663     21657  co_purchase\n",
              "\n",
              "[169325 rows x 3 columns]"
            ]
          },
          "metadata": {},
          "output_type": "display_data"
        }
      ],
      "source": [
        "display(graph_df[graph_df['relation'] == 'co_purchase'])"
      ]
    },
    {
      "cell_type": "code",
      "execution_count": null,
      "id": "5fa5792b-17a5-418a-9b6a-f70fc05ba8b9",
      "metadata": {
        "id": "5fa5792b-17a5-418a-9b6a-f70fc05ba8b9",
        "outputId": "cdf90bb7-e47e-4df9-b310-82156aaa02d8"
      },
      "outputs": [
        {
          "name": "stdout",
          "output_type": "stream",
          "text": [
            "product_1    object\n",
            "product_2    object\n",
            "relation     object\n",
            "dtype: object\n"
          ]
        }
      ],
      "source": [
        "print(graph_df.dtypes)"
      ]
    },
    {
      "cell_type": "code",
      "execution_count": null,
      "id": "9937960d-0a08-4c67-831e-1a643b8608f5",
      "metadata": {
        "id": "9937960d-0a08-4c67-831e-1a643b8608f5"
      },
      "outputs": [],
      "source": [
        "graph_df.to_pickle('cust_events.pkl')"
      ]
    },
    {
      "cell_type": "code",
      "execution_count": null,
      "id": "c6ce2566-4b3f-48db-b0e9-8cddd852922a",
      "metadata": {
        "id": "c6ce2566-4b3f-48db-b0e9-8cddd852922a",
        "outputId": "d46bc99c-f84e-4dd9-b846-6c2417042d2c"
      },
      "outputs": [
        {
          "name": "stdout",
          "output_type": "stream",
          "text": [
            "product_1    object\n",
            "product_2    object\n",
            "relation     object\n",
            "dtype: object\n"
          ]
        },
        {
          "data": {
            "text/html": [
              "<div>\n",
              "<style scoped>\n",
              "    .dataframe tbody tr th:only-of-type {\n",
              "        vertical-align: middle;\n",
              "    }\n",
              "\n",
              "    .dataframe tbody tr th {\n",
              "        vertical-align: top;\n",
              "    }\n",
              "\n",
              "    .dataframe thead th {\n",
              "        text-align: right;\n",
              "    }\n",
              "</style>\n",
              "<table border=\"1\" class=\"dataframe\">\n",
              "  <thead>\n",
              "    <tr style=\"text-align: right;\">\n",
              "      <th></th>\n",
              "      <th>product_1</th>\n",
              "      <th>product_2</th>\n",
              "      <th>relation</th>\n",
              "    </tr>\n",
              "  </thead>\n",
              "  <tbody>\n",
              "    <tr>\n",
              "      <th>0</th>\n",
              "      <td>2735</td>\n",
              "      <td>2748</td>\n",
              "      <td>p_after_v</td>\n",
              "    </tr>\n",
              "    <tr>\n",
              "      <th>1</th>\n",
              "      <td>21641</td>\n",
              "      <td>21858</td>\n",
              "      <td>p_after_v</td>\n",
              "    </tr>\n",
              "    <tr>\n",
              "      <th>2</th>\n",
              "      <td>22329</td>\n",
              "      <td>21403</td>\n",
              "      <td>p_after_v</td>\n",
              "    </tr>\n",
              "    <tr>\n",
              "      <th>3</th>\n",
              "      <td>6025</td>\n",
              "      <td>6155</td>\n",
              "      <td>p_after_v</td>\n",
              "    </tr>\n",
              "    <tr>\n",
              "      <th>4</th>\n",
              "      <td>22345</td>\n",
              "      <td>22315</td>\n",
              "      <td>p_after_v</td>\n",
              "    </tr>\n",
              "  </tbody>\n",
              "</table>\n",
              "</div>"
            ],
            "text/plain": [
              "  product_1 product_2   relation\n",
              "0      2735      2748  p_after_v\n",
              "1     21641     21858  p_after_v\n",
              "2     22329     21403  p_after_v\n",
              "3      6025      6155  p_after_v\n",
              "4     22345     22315  p_after_v"
            ]
          },
          "metadata": {},
          "output_type": "display_data"
        }
      ],
      "source": [
        "new_df = pd.read_pickle('cust_events.pkl')\n",
        "print(new_df.dtypes)\n",
        "display(new_df.head())"
      ]
    },
    {
      "cell_type": "code",
      "execution_count": null,
      "id": "5c785640-c8e9-4163-999c-271ec5b911cd",
      "metadata": {
        "id": "5c785640-c8e9-4163-999c-271ec5b911cd"
      },
      "outputs": [],
      "source": [
        "graph_df = new_df.copy()"
      ]
    },
    {
      "cell_type": "code",
      "execution_count": null,
      "id": "70ad375c-1f6f-4398-9ff4-806da8b4ddcf",
      "metadata": {
        "id": "70ad375c-1f6f-4398-9ff4-806da8b4ddcf",
        "outputId": "9f62aab6-f656-4204-be63-bb6bd990e05d"
      },
      "outputs": [
        {
          "name": "stdout",
          "output_type": "stream",
          "text": [
            "Coview (3495638, 3)\n",
            "Copurchase (169325, 3)\n",
            "purchase after view (149057, 3)\n"
          ]
        }
      ],
      "source": [
        "print('Coview', graph_df[graph_df['relation'] == 'co_view'].shape)\n",
        "print('Copurchase', graph_df[graph_df['relation'] == 'co_purchase'].shape)\n",
        "print('purchase after view', graph_df[graph_df['relation'] == 'p_after_v'].shape)"
      ]
    },
    {
      "cell_type": "markdown",
      "id": "6c5f98d7-c533-4214-af48-9318d7fa36ab",
      "metadata": {
        "id": "6c5f98d7-c533-4214-af48-9318d7fa36ab"
      },
      "source": [
        "xxxxxxxxxxxxxxxxxxxxxxxxxxxxxxxxxxxxxxxxxxxxxxxxxxxxxxxxxxxxxxxxxxxxxxxxxxxxxxxx"
      ]
    },
    {
      "cell_type": "code",
      "execution_count": null,
      "id": "76244932-971f-4e11-b0c3-768b5b21c169",
      "metadata": {
        "id": "76244932-971f-4e11-b0c3-768b5b21c169"
      },
      "outputs": [],
      "source": [
        ""
      ]
    },
    {
      "cell_type": "code",
      "execution_count": null,
      "id": "92c69e2d-0494-49c4-81dc-0f2d3df671cd",
      "metadata": {
        "id": "92c69e2d-0494-49c4-81dc-0f2d3df671cd"
      },
      "outputs": [],
      "source": [
        ""
      ]
    },
    {
      "cell_type": "code",
      "execution_count": null,
      "id": "10b4b0f1-fa28-4b11-b2f4-65dac0068e96",
      "metadata": {
        "id": "10b4b0f1-fa28-4b11-b2f4-65dac0068e96"
      },
      "outputs": [],
      "source": [
        ""
      ]
    },
    {
      "cell_type": "code",
      "execution_count": null,
      "id": "1d278d45-1d45-4084-b842-a44c0967a786",
      "metadata": {
        "id": "1d278d45-1d45-4084-b842-a44c0967a786"
      },
      "outputs": [],
      "source": [
        ""
      ]
    },
    {
      "cell_type": "code",
      "execution_count": null,
      "id": "d2a1731f-9814-4f95-b0e9-a0d17a0c7336",
      "metadata": {
        "id": "d2a1731f-9814-4f95-b0e9-a0d17a0c7336"
      },
      "outputs": [],
      "source": [
        ""
      ]
    },
    {
      "cell_type": "code",
      "execution_count": null,
      "id": "ffa907e2-2ee4-47fb-b4dd-017b378908dd",
      "metadata": {
        "id": "ffa907e2-2ee4-47fb-b4dd-017b378908dd"
      },
      "outputs": [],
      "source": [
        ""
      ]
    }
  ],
  "metadata": {
    "environment": {
      "kernel": "python3",
      "name": "tf2-gpu.2-7.m87",
      "type": "gcloud",
      "uri": "gcr.io/deeplearning-platform-release/tf2-gpu.2-7:m87"
    },
    "kernelspec": {
      "display_name": "Python 3",
      "language": "python",
      "name": "python3"
    },
    "language_info": {
      "codemirror_mode": {
        "name": "ipython",
        "version": 3
      },
      "file_extension": ".py",
      "mimetype": "text/x-python",
      "name": "python",
      "nbconvert_exporter": "python",
      "pygments_lexer": "ipython3",
      "version": "3.7.12"
    },
    "colab": {
      "name": "purchase_data_preparation.ipynb",
      "provenance": [],
      "include_colab_link": true
    }
  },
  "nbformat": 4,
  "nbformat_minor": 5
}